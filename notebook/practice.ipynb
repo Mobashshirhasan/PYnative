{
 "cells": [
  {
   "cell_type": "code",
   "execution_count": null,
   "id": "1741234b",
   "metadata": {
    "vscode": {
     "languageId": "plaintext"
    }
   },
   "outputs": [],
   "source": [
    "a = [1, 2, 3, 4]\n",
    "b = [5,6,7,8]\n",
    "result = a + b\n",
    "print(result)"
   ]
  }
 ],
 "metadata": {
  "language_info": {
   "name": "python"
  }
 },
 "nbformat": 4,
 "nbformat_minor": 5
}
